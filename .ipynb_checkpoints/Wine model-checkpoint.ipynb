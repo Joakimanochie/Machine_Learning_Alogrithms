{
 "cells": [
  {
   "cell_type": "code",
   "execution_count": null,
   "id": "6fe57200",
   "metadata": {},
   "outputs": [],
   "source": [
    "import numpy as np\n",
    "import pandas as pd\n",
    "import seaborn as sns \n",
    "import matplotlib.pyplot as plt\n",
    "import scipy.stats"
   ]
  },
  {
   "cell_type": "code",
   "execution_count": null,
   "id": "67b6dbc7",
   "metadata": {},
   "outputs": [],
   "source": [
    "wine = pd.read_csv(r\"C:\\Users\\HP\\OneDrive\\Documents\\data files\\data december\\winequality-red.csv\")\n",
    "wine.head()"
   ]
  },
  {
   "cell_type": "code",
   "execution_count": null,
   "id": "25413f16",
   "metadata": {},
   "outputs": [],
   "source": [
    "wine.describe()"
   ]
  },
  {
   "cell_type": "code",
   "execution_count": null,
   "id": "1506fcb9",
   "metadata": {},
   "outputs": [],
   "source": [
    "wine.info()"
   ]
  },
  {
   "cell_type": "code",
   "execution_count": null,
   "id": "8e603952",
   "metadata": {},
   "outputs": [],
   "source": [
    "sns.pairplot(wine)"
   ]
  },
  {
   "cell_type": "code",
   "execution_count": null,
   "id": "24922d12",
   "metadata": {},
   "outputs": [],
   "source": []
  }
 ],
 "metadata": {
  "kernelspec": {
   "display_name": "Python 3 (ipykernel)",
   "language": "python",
   "name": "python3"
  },
  "language_info": {
   "codemirror_mode": {
    "name": "ipython",
    "version": 3
   },
   "file_extension": ".py",
   "mimetype": "text/x-python",
   "name": "python",
   "nbconvert_exporter": "python",
   "pygments_lexer": "ipython3",
   "version": "3.10.9"
  }
 },
 "nbformat": 4,
 "nbformat_minor": 5
}
